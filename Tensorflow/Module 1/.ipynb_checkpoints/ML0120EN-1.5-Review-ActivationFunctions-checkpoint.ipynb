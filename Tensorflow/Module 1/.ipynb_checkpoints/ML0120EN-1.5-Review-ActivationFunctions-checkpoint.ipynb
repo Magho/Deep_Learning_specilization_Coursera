{
 "cells": [
  {
   "cell_type": "markdown",
   "metadata": {},
   "source": [
    "<a href=\"https://www.bigdatauniversity.com\"><img src = \"https://ibm.box.com/shared/static/jvcqp2iy2jlx2b32rmzdt0tx8lvxgzkp.png\" width = 300, align = \"center\"></a>\n",
    "<h1 align=\"center\"> Activation Functions </h1><br>\n",
    "Activation functions are a cornerstone of Machine Learning. In general, Activation Functions define how a processing unit will treat its input -- usually passing this input through it and generating an output through its result. To\n",
    "begin the process of having a more intuitive understanding, let's go through some of the most commonly used functions."
   ]
  },
  {
   "cell_type": "markdown",
   "metadata": {},
   "source": [
    "<div class=\"alert alert-block alert-info\" style=\"margin-top: 20px\">\n",
    "<font size = 3><strong>This lesson covers the following concepts of Activation Functions:</strong></font>\n",
    "<br>\n",
    "- <p><a href=\"#ref1\">The Step Functions</a></p>\n",
    "- <p><a href=\"#ref2\">The Sigmoid Functions</a></p>\n",
    "- <p><a href=\"#ref3\">The Linear Unit Functions</a></p>\n",
    "- <p><a href=\"#ref3\">Activation Functions in TensorFlow</a></p>\n",
    "<p></p>\n",
    "</div>\n",
    "<br>"
   ]
  },
  {
   "cell_type": "markdown",
   "metadata": {},
   "source": [
    "---"
   ]
  },
  {
   "cell_type": "markdown",
   "metadata": {},
   "source": [
    "#### Importing Dependencies"
   ]
  },
  {
   "cell_type": "code",
   "execution_count": null,
   "metadata": {
    "collapsed": true
   },
   "outputs": [],
   "source": [
    "import tensorflow as tf\n",
    "import numpy as np\n",
    "import matplotlib.pyplot as plt\n",
    "\n",
    "from mpl_toolkits.mplot3d import Axes3D\n",
    "\n",
    "%matplotlib inline"
   ]
  },
  {
   "cell_type": "markdown",
   "metadata": {},
   "source": [
    "The next cell implements a basic function that plots a surface for an arbitrary activation function. The plot is done for all possible values of weight and bias between -0.5 and 0.5 with a step of 0.05. The input, the weight, and the bias are one-dimensional. Additionally, the input can be passed as an argument."
   ]
  },
  {
   "cell_type": "code",
   "execution_count": null,
   "metadata": {
    "collapsed": true
   },
   "outputs": [],
   "source": [
    "def plot_act(i=1.0, actfunc=lambda x: x):\n",
    "    ws = np.arange(-0.5, 0.5, 0.05)\n",
    "    bs = np.arange(-0.5, 0.5, 0.05)\n",
    "\n",
    "    X, Y = np.meshgrid(ws, bs)\n",
    "\n",
    "    os = np.array([actfunc(tf.constant(w*i + b)).eval(session=sess) \\\n",
    "                   for w,b in zip(np.ravel(X), np.ravel(Y))])\n",
    "\n",
    "    Z = os.reshape(X.shape)\n",
    "\n",
    "    fig = plt.figure()\n",
    "    ax = fig.add_subplot(111, projection='3d')\n",
    "    ax.plot_surface(X, Y, Z, rstride=1, cstride=1)"
   ]
  },
  {
   "cell_type": "markdown",
   "metadata": {},
   "source": [
    "#### Basic Structure\n",
    "\n",
    "In this example we illustrate how, in Tensorflow, to compute the weighted sum that goes into the neuron and direct it to the activation function. For further details, read the code comments below."
   ]
  },
  {
   "cell_type": "code",
   "execution_count": null,
   "metadata": {
    "collapsed": true
   },
   "outputs": [],
   "source": [
    "#start a session\n",
    "sess = tf.Session();\n",
    "#create a simple input of 3 real values\n",
    "i = tf.constant([1.0, 2.0, 3.0], shape=[1, 3])\n",
    "#create a matrix of weights\n",
    "w = tf.random_normal(shape=[3, 3])\n",
    "#create a vector of biases\n",
    "b = tf.random_normal(shape=[1, 3])\n",
    "#dummy activation function\n",
    "def func(x): return x\n",
    "#tf.matmul will multiply the input(i) tensor and the weight(w) tensor then sum the result with the bias(b) tensor.\n",
    "act = func(tf.matmul(i, w) + b)\n",
    "#Evaluate the tensor to a numpy array\n",
    "act.eval(session=sess)"
   ]
  },
  {
   "cell_type": "code",
   "execution_count": null,
   "metadata": {
    "collapsed": true
   },
   "outputs": [],
   "source": [
    "plot_act(1.0, func)"
   ]
  },
  {
   "cell_type": "markdown",
   "metadata": {},
   "source": [
    "<a href=\"#ref1\"></a>\n",
    "## The Step Functions\n",
    "The Step function was the first one designed for Machine Learning algorithms. It consists of a simple threshold function that varies the Y value from 0 to 1. This function has been historically utilized for classification problems, like Logistic Regression with two classes.\n",
    "\n",
    "<img width=\"250\" alt=\"Activation binary step\" src=\"https://ibm.box.com/shared/static/kqect7hdbnpzb6ylnauimr1uxmx5634k.png\">\n",
    "\n",
    "The Step Function simply functions as a limiter. Every input that goes through this function will be applied to gets either assigned a value of 0 or 1. As such, it is easy to see how it can be handy in classification problems.\n",
    "\n",
    "There are other variations of the Step Function such as the Rectangle Step and others, but those are seldom used."
   ]
  },
  {
   "cell_type": "markdown",
   "metadata": {},
   "source": [
    "Tensorflow dosen't have a Step Function."
   ]
  },
  {
   "cell_type": "markdown",
   "metadata": {},
   "source": [
    "<a href=\"#ref2\"></a>\n",
    "## The Sigmoid Functions\n",
    "The next in line for Machine Learning problems is the family of the ever-present Sigmoid functions. Sigmoid functions are called that due to their shape in the Cartesian plane, which resembles an \"S\" shape.\n",
    "\n",
    "Sigmoid functions are very useful in the sense that they \"squash\" their given inputs into a bounded interval. This is exceptionally handy when combining these functions with others such as the Step function.\n",
    "\n",
    "Most of the Sigmoid functions you should find in applications will be the Logistic, Arctangent, and Hyperbolic Tangent functions."
   ]
  },
  {
   "cell_type": "markdown",
   "metadata": {},
   "source": [
    "#### Logistic Regression (sigmoid)"
   ]
  },
  {
   "cell_type": "markdown",
   "metadata": {},
   "source": [
    "The Logistic function, as its name implies, is widely used in Logistic Regression. It is defined as $f(x) = \\dfrac{1}{1 + e^{-x}}$. Effectively, this makes it so you have a Sigmoid over the $(0,1)$ interval, like so:\n",
    "\n",
    "<img width=\"384\" alt=\"Activation - Binary Step\" src=\"https://ibm.box.com/shared/static/eryl0bvmczgfzemarakzgvgvgwe0c135.png\">"
   ]
  },
  {
   "cell_type": "code",
   "execution_count": null,
   "metadata": {
    "collapsed": true
   },
   "outputs": [],
   "source": [
    "plot_act(1, tf.sigmoid)"
   ]
  },
  {
   "cell_type": "markdown",
   "metadata": {},
   "source": [
    "3D sigmoid plot. The x-axis is the weight, the y-axis is the bias.\n",
    "\n",
    "#### Using sigmoid in a neural net layer ####"
   ]
  },
  {
   "cell_type": "code",
   "execution_count": null,
   "metadata": {
    "collapsed": true
   },
   "outputs": [],
   "source": [
    "act = tf.sigmoid(tf.matmul(i, w) + b)\n",
    "act.eval(session=sess)"
   ]
  },
  {
   "cell_type": "markdown",
   "metadata": {},
   "source": [
    "The Arctangent and Hyperbolic Tangent functions on the other hand, as the name implies, are based on the Tangent function. Arctangent is defined by $f(x) = tan^{-1}x$, and produces a sigmoid over the $(\\dfrac{-\\pi}{2},\\dfrac{\\pi}{2})$ interval.\n",
    "\n",
    "<img width=\"384\" alt=\"Activation - Atan\" src=\"https://ibm.box.com/shared/static/ajw9xtnsux7hc4fi5pghatwak425xk7f.png\">\n",
    "\n",
    "It has no implementation in Tensorflow"
   ]
  },
  {
   "cell_type": "markdown",
   "metadata": {},
   "source": [
    "#### Tanh"
   ]
  },
  {
   "cell_type": "markdown",
   "metadata": {},
   "source": [
    "The Hyperbolic Tangent, or TanH as it's usually called, is defined as $f(x) = \\dfrac{2}{1 + e^{-2x}} - 1$. It produces a sigmoid over the $(-1,1)$ interval. TanH is widely used in a wide range of applications, and is probably the most used function of the Sigmoid family.\n",
    "\n",
    "<img width=\"384\" alt=\"Activation - TanH\" src=\"https://ibm.box.com/shared/static/ylr2so4fnhwszxnw9hfmar9rphy4qlpn.png\">"
   ]
  },
  {
   "cell_type": "code",
   "execution_count": null,
   "metadata": {
    "collapsed": true
   },
   "outputs": [],
   "source": [
    "plot_act(1, tf.tanh)"
   ]
  },
  {
   "cell_type": "markdown",
   "metadata": {},
   "source": [
    "3D tanh plot. The x-axis is the weight, the y-axis is the bias.\n",
    "\n",
    "#### Using tanh in a neural net layer ####"
   ]
  },
  {
   "cell_type": "code",
   "execution_count": null,
   "metadata": {
    "collapsed": true
   },
   "outputs": [],
   "source": [
    "act = tf.tanh(tf.matmul(i, w) + b)\n",
    "act.eval(session=sess)"
   ]
  },
  {
   "cell_type": "markdown",
   "metadata": {},
   "source": [
    "<a href=\"#ref3\"></a>\n",
    "## The Linear Unit functions\n",
    "Linear Units are the next step in activation functions. They take concepts from both Step and Sigmoid functions and behave within the best of the two types of functions. Linear Units in general tend to be variation of what is called the Rectified Linear Unit, or ReLU for short.\n",
    "\n",
    "The ReLU is a simple function which operates within the $[0,\\infty)$ interval. For the entirety of the negative value domain, it returns a value of 0, while on the positive value domain, it returns $x$ for any $f(x)$.\n",
    "\n",
    "<img width=\"384\" alt=\"Activation - ReLU\" src=\"https://ibm.box.com/shared/static/kblfxapmiioh20q6vmtd6qu579w689nz.png\">\n",
    "\n",
    "While it may seem counterintuitive to utilize a pseudo-linear function instead of something like Sigmoids, ReLUs provide some benefits which might not be understood at first glance. For example, during the initialization process of a Neural Network model, in which weights are distributed at random for each unit, ReLUs will only activate approximately only in 50% of the times -- which saves some processing power. Additionally, the ReLU structure takes care of what is called the **Vanishing and Exploding Gradient** problem by itself. Another benefit -- if not only marginally relevant to us -- is that this kind of activation function is directly relatable to the nervous system analogy of Neural Networks (this is called *Biological Plausibility*).\n",
    "\n",
    "The ReLU structure has also has many variations optimized for certain applications, but those are implemented on a case-by-case basis and therefore aren't in the scope of this notebook. If you want to know more, search for *Parametric Rectified Linear Units* or maybe *Exponential Linear Units*."
   ]
  },
  {
   "cell_type": "code",
   "execution_count": null,
   "metadata": {
    "collapsed": true
   },
   "outputs": [],
   "source": [
    "plot_act(1, tf.nn.relu)"
   ]
  },
  {
   "cell_type": "markdown",
   "metadata": {},
   "source": [
    "3D relu plot. The x-axis is the weight, the y-axis is the bias.\n",
    "\n",
    "#### Using relu in a neural net layer ####\n",
    "\n",
    "TensorFlow has ReLU and some other variants of this function. Take a look:"
   ]
  },
  {
   "cell_type": "code",
   "execution_count": null,
   "metadata": {
    "collapsed": true
   },
   "outputs": [],
   "source": [
    "act = tf.nn.relu(tf.matmul(i, w) + b)\n",
    "act.eval(session=sess)"
   ]
  },
  {
   "cell_type": "markdown",
   "metadata": {},
   "source": [
    "---"
   ]
  },
  {
   "cell_type": "markdown",
   "metadata": {},
   "source": [
    "This is the end of the **Activation Functions** notebook. Hopefully, now you have a deeper understanding of what activation functions are and what they are used for. Thank you for reading this notebook, and good luck on your studies.\n",
    " You can take a look at all TensorFlow Activation Functions in [its reference](https://www.tensorflow.org/versions/r0.9/api_docs/python/nn.html#activation-functions)."
   ]
  },
  {
   "cell_type": "markdown",
   "metadata": {},
   "source": [
    "---"
   ]
  },
  {
   "cell_type": "markdown",
   "metadata": {},
   "source": [
    "## Want to learn more?\n",
    "\n",
    "Running deep learning programs usually needs a high performance platform. PowerAI speeds up deep learning and AI. Built on IBM's Power Systems, PowerAI is a scalable software platform that accelerates deep learning and AI with blazing performance for individual users or enterprises. The PowerAI platform supports popular machine learning libraries and dependencies including Tensorflow, Caffe, Torch, and Theano. You can download a [free version of PowerAI](https://cocl.us/ML0120EN_PAI).\n",
    "\n",
    "Also, you can use Data Science Experience to run these notebooks faster with bigger datasets. Data Science Experience is IBM's leading cloud solution for data scientists, built by data scientists. With Jupyter notebooks, RStudio, Apache Spark and popular libraries pre-packaged in the cloud, DSX enables data scientists to collaborate on their projects without having to install anything. Join the fast-growing community of DSX users today with a free account at [Data Science Experience](https://cocl.us/ML0120EN_DSX)This is the end of this lesson. Hopefully, now you have a deeper and intuitive understanding regarding the LSTM model. Thank you for reading this notebook, and good luck on your studies."
   ]
  },
  {
   "cell_type": "markdown",
   "metadata": {},
   "source": [
    "### Thanks for completing this module!\n",
    "\n",
    "Created by Walter Gomes de Amorim, Thiago Felipe Correa Borges and Hugo Sales Correa"
   ]
  }
 ],
 "metadata": {
  "kernelspec": {
   "display_name": "Python 2",
   "language": "python",
   "name": "python2"
  },
  "language_info": {
   "codemirror_mode": {
    "name": "ipython",
    "version": 2
   },
   "file_extension": ".py",
   "mimetype": "text/x-python",
   "name": "python",
   "nbconvert_exporter": "python",
   "pygments_lexer": "ipython2",
   "version": "2.7.13"
  }
 },
 "nbformat": 4,
 "nbformat_minor": 2
}
